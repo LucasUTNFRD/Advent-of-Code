{
 "cells": [
  {
   "cell_type": "code",
   "execution_count": 27,
   "metadata": {},
   "outputs": [],
   "source": [
    "game_counter = 1\n",
    "filepath = \"input-day2.txt\"\n",
    "with open(filepath,\"r\") as file:\n",
    "    for line in file.readlines():\n",
    "        game, results = line.strip().split(':')\n",
    "        results = results.split(';')\n",
    "        # print(game,results)\n"
   ]
  },
  {
   "cell_type": "code",
   "execution_count": 40,
   "metadata": {},
   "outputs": [
    {
     "name": "stdout",
     "output_type": "stream",
     "text": [
      "2\n"
     ]
    }
   ],
   "source": [
    "import re\n",
    "\n",
    "string = '\"4 blue, 16 green, 2 red\"'\n",
    "red_pattern = re.search(r'(\\d+)\\s+red', string)\n",
    "green_pattern = re.search(r'(\\d+)\\s+green', string)\n",
    "blue_pattern = re.search(r'(\\d+)\\s+bluee', string)"
   ]
  },
  {
   "cell_type": "code",
   "execution_count": null,
   "metadata": {},
   "outputs": [],
   "source": []
  }
 ],
 "metadata": {
  "kernelspec": {
   "display_name": "Python 3",
   "language": "python",
   "name": "python3"
  },
  "language_info": {
   "codemirror_mode": {
    "name": "ipython",
    "version": 3
   },
   "file_extension": ".py",
   "mimetype": "text/x-python",
   "name": "python",
   "nbconvert_exporter": "python",
   "pygments_lexer": "ipython3",
   "version": "3.11.6"
  }
 },
 "nbformat": 4,
 "nbformat_minor": 2
}
